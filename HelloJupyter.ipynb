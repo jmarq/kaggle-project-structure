{
 "cells": [
  {
   "cell_type": "markdown",
   "id": "27428065",
   "metadata": {},
   "source": [
    "# maybe we can write helper code in module files\n",
    "## and then import the modules into jupyter notebooks for exploratory work"
   ]
  },
  {
   "cell_type": "code",
   "execution_count": 6,
   "id": "bea2023b",
   "metadata": {},
   "outputs": [
    {
     "name": "stdout",
     "output_type": "stream",
     "text": [
      "transforming data\n",
      "[1, 2, 3]\n"
     ]
    }
   ],
   "source": [
    "from titanic.models import model1\n",
    "from titanic.features import transform\n",
    "\n",
    "data = transform.transform_data([1,2,3])"
   ]
  },
  {
   "cell_type": "code",
   "execution_count": 7,
   "id": "ccbe2cbe",
   "metadata": {},
   "outputs": [
    {
     "name": "stdout",
     "output_type": "stream",
     "text": [
      "[1, 2, 3]\n"
     ]
    }
   ],
   "source": [
    "print(data)"
   ]
  },
  {
   "cell_type": "code",
   "execution_count": 8,
   "id": "84541bb0",
   "metadata": {},
   "outputs": [
    {
     "name": "stdout",
     "output_type": "stream",
     "text": [
      "transforming data\n",
      "running model\n",
      "col1, col2, col3\n",
      "1,2,3\n",
      "2,4,6\n",
      "3,6,9\n"
     ]
    }
   ],
   "source": [
    "results = model1.run_model(\"train.csv\", \"results_from_notebook.csv\" )"
   ]
  }
 ],
 "metadata": {
  "kernelspec": {
   "display_name": "Python 3 (ipykernel)",
   "language": "python",
   "name": "python3"
  },
  "language_info": {
   "codemirror_mode": {
    "name": "ipython",
    "version": 3
   },
   "file_extension": ".py",
   "mimetype": "text/x-python",
   "name": "python",
   "nbconvert_exporter": "python",
   "pygments_lexer": "ipython3",
   "version": "3.7.10"
  }
 },
 "nbformat": 4,
 "nbformat_minor": 5
}
